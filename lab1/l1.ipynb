{
 "cells": [
  {
   "cell_type": "code",
   "execution_count": 1,
   "metadata": {},
   "outputs": [
    {
     "name": "stdout",
     "output_type": "stream",
     "text": [
      "1\n",
      "2\n",
      "False\n"
     ]
    }
   ],
   "source": [
    "class MyQueue:\n",
    "    def __init__(self):\n",
    "        self.stack1 = []  # Stack 1\n",
    "        self.stack2 = []  # Stack 2\n",
    "\n",
    "    def push(self, x):\n",
    "        # Add element to stack1\n",
    "        self.stack1.append(x)\n",
    "\n",
    "    def pop(self):\n",
    "        # If the queue is empty, return -1\n",
    "        if self.empty():\n",
    "            return -1\n",
    "\n",
    "        # Move elements from stack1 to stack2 except the last one\n",
    "        while len(self.stack1) > 1:\n",
    "            self.stack2.append(self.stack1.pop())\n",
    "\n",
    "        # Pop the last element from stack1 (the front of the queue)\n",
    "        popped = self.stack1.pop()\n",
    "\n",
    "        # Move elements back from stack2 to stack1\n",
    "        while self.stack2:\n",
    "            self.stack1.append(self.stack2.pop())\n",
    "\n",
    "        return popped\n",
    "\n",
    "    def empty(self):\n",
    "        # Check if stack1 is empty\n",
    "        return len(self.stack1) == 0\n",
    "\n",
    "# Example Usage\n",
    "queue = MyQueue()\n",
    "queue.push(1)\n",
    "queue.push(2)\n",
    "queue.push(3)\n",
    "print(queue.pop())  # Output: 1\n",
    "print(queue.pop())  # Output: 2\n",
    "print(queue.empty())  # Output: False\n"
   ]
  },
  {
   "cell_type": "code",
   "execution_count": 3,
   "metadata": {},
   "outputs": [
    {
     "name": "stdout",
     "output_type": "stream",
     "text": [
      "Adjacency List:\n",
      "{'1': [(2, 1), (3, 1), (4, 5)], '2': [(3, 3)], '3': [(4, 4)], '4': [(1, 5)]}\n",
      "Adjacency Matrix:\n",
      "[0, 1, 1, 5]\n",
      "[0, 0, 3, 0]\n",
      "[0, 0, 0, 4]\n",
      "[5, 0, 0, 0]\n"
     ]
    }
   ],
   "source": [
    "# Python implementation of the graph\n",
    "\n",
    "# Using adjacency list representation\n",
    "class Graph:\n",
    "    def __init__(self, vertices):\n",
    "        self.vertices = vertices\n",
    "        self.adj_list = {str(v): [] for v in range(1, vertices + 1)}\n",
    "\n",
    "    def add_edge(self, u, v, weight):\n",
    "        self.adj_list[str(u)].append((v, weight))\n",
    "\n",
    "    def print_adj_list(self):\n",
    "        print(\"Adjacency List:\")\n",
    "        print(self.adj_list)\n",
    "\n",
    "    def to_adj_matrix(self):\n",
    "        adj_matrix = [[0] * self.vertices for _ in range(self.vertices)]\n",
    "        for u in self.adj_list:\n",
    "            for v, weight in self.adj_list[u]:\n",
    "                adj_matrix[int(u) - 1][v - 1] = weight\n",
    "        return adj_matrix\n",
    "\n",
    "    def print_adj_matrix(self):\n",
    "        adj_matrix = self.to_adj_matrix()\n",
    "        print(\"Adjacency Matrix:\")\n",
    "        for row in adj_matrix:\n",
    "            print(row)\n",
    "\n",
    "# Example usage\n",
    "vertices = 4\n",
    "graph = Graph(vertices)\n",
    "\n",
    "# Adding edges as per the given graph\n",
    "graph.add_edge(1, 2, 1)\n",
    "graph.add_edge(1, 3, 1)\n",
    "graph.add_edge(1, 4, 5)\n",
    "graph.add_edge(3, 4, 4)\n",
    "graph.add_edge(4, 1, 5)\n",
    "graph.add_edge(2, 3, 3)\n",
    "\n",
    "# Printing adjacency list and matrix\n",
    "graph.print_adj_list()\n",
    "graph.print_adj_matrix()\n"
   ]
  },
  {
   "cell_type": "code",
   "execution_count": 4,
   "metadata": {},
   "outputs": [
    {
     "name": "stdout",
     "output_type": "stream",
     "text": [
      "Euclidean Distances: [2.0, 1.0, 1.0, 1.0]\n",
      "Sorted Distances: [1.0, 1.0, 1.0, 2.0]\n"
     ]
    }
   ],
   "source": [
    "# Compute Euclidean distance and sort using Bubble Sort\n",
    "\n",
    "def compute_euclidean_distance(x, y):\n",
    "    distances = []\n",
    "    for i in range(len(x)):\n",
    "        distance = ((x[i] - y[i]) ** 2) ** 0.5\n",
    "        distances.append(distance)\n",
    "    return distances\n",
    "\n",
    "def bubble_sort(arr):\n",
    "    n = len(arr)\n",
    "    for i in range(n):\n",
    "        for j in range(0, n - i - 1):\n",
    "            if arr[j] > arr[j + 1]:\n",
    "                arr[j], arr[j + 1] = arr[j + 1], arr[j]\n",
    "    return arr\n",
    "\n",
    "# Example usage\n",
    "X = [3, 5, 7, 9]\n",
    "Y = [1, 4, 6, 8]\n",
    "\n",
    "distances = compute_euclidean_distance(X, Y)\n",
    "print(\"Euclidean Distances:\", distances)\n",
    "\n",
    "sorted_distances = bubble_sort(distances)\n",
    "print(\"Sorted Distances:\", sorted_distances)\n"
   ]
  },
  {
   "cell_type": "code",
   "execution_count": 5,
   "metadata": {},
   "outputs": [
    {
     "name": "stdout",
     "output_type": "stream",
     "text": [
      "InOrder(root) visits nodes in the following order: [4, 10, 12, 15, 18, 22, 24, 25, 31, 35, 44, 50, 66, 70, 90]\n",
      "A Pre-order traversal visits nodes in the following order: [25, 15, 10, 4, 12, 22, 18, 24, 50, 35, 31, 44, 70, 66, 90]\n",
      "A Post-order traversal visits nodes in the following order: [4, 12, 10, 18, 24, 22, 15, 31, 44, 35, 66, 90, 70, 50, 25]\n"
     ]
    }
   ],
   "source": [
    "# Implementation of Binary Search Tree with Traversals\n",
    "\n",
    "class Node:\n",
    "    def __init__(self, value):\n",
    "        self.value = value\n",
    "        self.left = None\n",
    "        self.right = None\n",
    "\n",
    "class BinarySearchTree:\n",
    "    def __init__(self):\n",
    "        self.root = None\n",
    "\n",
    "    def insert(self, value):\n",
    "        if self.root is None:\n",
    "            self.root = Node(value)\n",
    "        else:\n",
    "            self._insert(self.root, value)\n",
    "\n",
    "    def _insert(self, current, value):\n",
    "        if value < current.value:\n",
    "            if current.left is None:\n",
    "                current.left = Node(value)\n",
    "            else:\n",
    "                self._insert(current.left, value)\n",
    "        else:\n",
    "            if current.right is None:\n",
    "                current.right = Node(value)\n",
    "            else:\n",
    "                self._insert(current.right, value)\n",
    "\n",
    "    def inorder(self, node, result):\n",
    "        if node:\n",
    "            self.inorder(node.left, result)\n",
    "            result.append(node.value)\n",
    "            self.inorder(node.right, result)\n",
    "\n",
    "    def preorder(self, node, result):\n",
    "        if node:\n",
    "            result.append(node.value)\n",
    "            self.preorder(node.left, result)\n",
    "            self.preorder(node.right, result)\n",
    "\n",
    "    def postorder(self, node, result):\n",
    "        if node:\n",
    "            self.postorder(node.left, result)\n",
    "            self.postorder(node.right, result)\n",
    "            result.append(node.value)\n",
    "\n",
    "# Example usage\n",
    "bst = BinarySearchTree()\n",
    "values = [25, 15, 50, 10, 22, 35, 70, 4, 12, 18, 24, 31, 44, 66, 90]\n",
    "for value in values:\n",
    "    bst.insert(value)\n",
    "\n",
    "inorder_result = []\n",
    "bst.inorder(bst.root, inorder_result)\n",
    "print(\"InOrder(root) visits nodes in the following order:\", inorder_result)\n",
    "\n",
    "preorder_result = []\n",
    "bst.preorder(bst.root, preorder_result)\n",
    "print(\"A Pre-order traversal visits nodes in the following order:\", preorder_result)\n",
    "\n",
    "postorder_result = []\n",
    "bst.postorder(bst.root, postorder_result)\n",
    "print(\"A Post-order traversal visits nodes in the following order:\", postorder_result)"
   ]
  },
  {
   "cell_type": "markdown",
   "metadata": {},
   "source": [
    "# LAB 3"
   ]
  },
  {
   "cell_type": "code",
   "execution_count": 8,
   "metadata": {},
   "outputs": [
    {
     "name": "stdout",
     "output_type": "stream",
     "text": [
      "['A', 'B', 'S', 'C', 'D', 'E', 'H', 'G', 'F']\n"
     ]
    }
   ],
   "source": [
    "graph1 = {\n",
    " 'A' : ['B','S'],\n",
    " 'B' : ['A'],\n",
    " 'C' : ['D','E','F','S'],\n",
    " 'D' : ['C'],\n",
    " 'E' : ['C','H'],\n",
    " 'F' : ['C','G'],\n",
    " 'G' : ['F','S'],\n",
    " 'H' : ['E','G'],\n",
    " 'S' : ['A','C','G']\n",
    "}\n",
    "def dfs(graph, node, visited):\n",
    "    if node not in visited:\n",
    "        visited.append(node)\n",
    "        for k in graph[node]:\n",
    "            dfs(graph,k, visited)\n",
    "    return visited\n",
    "visited = dfs(graph1,'A', [])\n",
    "print(visited)"
   ]
  },
  {
   "cell_type": "code",
   "execution_count": 1,
   "metadata": {},
   "outputs": [
    {
     "name": "stdout",
     "output_type": "stream",
     "text": [
      "Topological Sort Order: [5, 4, 2, 3, 1, 0]\n"
     ]
    }
   ],
   "source": [
    "class Topo:\n",
    "    def __init__(self, ver):\n",
    "        self.vertices = ver\n",
    "        self.adj = {v: [] for v in range(ver)}\n",
    "\n",
    "    def edgs(self, u, v):\n",
    "        self.adj[u].append(v)\n",
    "\n",
    "    def dfs(self, v, visited, stack):\n",
    "        # current node is visited\n",
    "        visited[v] = True\n",
    "\n",
    "        for neighbor in self.adj[v]:\n",
    "            if not visited[neighbor]:\n",
    "                self.dfs(neighbor, visited, stack)\n",
    "        stack.append(v)\n",
    "\n",
    "    def topology(self):\n",
    "        visited = [False] * self.vertices\n",
    "        stack = []\n",
    "        \n",
    "        for i in range(self.vertices):\n",
    "            if not visited[i]:\n",
    "                self.dfs(i, visited, stack)\n",
    "\n",
    "        # The stack contains the topologically sorted order (reversed)\n",
    "        return stack[::-1]\n",
    "\n",
    "n = int(input(\"Enter the number of vertices: \"))\n",
    "gr = Topo(n)\n",
    "\n",
    "while True:\n",
    "    u = int(input(\"Enter edge u in u->v: \"))\n",
    "    v = int(input(\"Enter edge v in u->v: \"))\n",
    "    gr.edgs(u, v)\n",
    "    \n",
    "    cond = input(\"Continue? y/n: \")\n",
    "    if cond == 'n':\n",
    "        break\n",
    "topo_order = gr.topology()\n",
    "print(\"Topological Sort Order:\", topo_order)\n"
   ]
  },
  {
   "cell_type": "code",
   "execution_count": 13,
   "metadata": {},
   "outputs": [
    {
     "name": "stdout",
     "output_type": "stream",
     "text": [
      "Graph contains a cycle\n"
     ]
    }
   ],
   "source": [
    "class Cyc:\n",
    "    def __init__(self, ver):\n",
    "        self.vertices = ver\n",
    "        self.adj = {v: [] for v in range(ver)}\n",
    "\n",
    "    def edgs(self, u, v):\n",
    "        if u >= self.vertices or v >= self.vertices or u < 0 or v < 0:\n",
    "            print(\"Invalid edge! Vertex index out of range.\")\n",
    "            return\n",
    "        self.adj[u].append(v)\n",
    "\n",
    "    def dfsinit(self):\n",
    "        visited=[False]*self.vertices\n",
    "        rec_stack=[False]*self.vertices\n",
    "        for v in range(self.vertices):\n",
    "            if not visited[v]:  \n",
    "                if self.dfs(v, visited, rec_stack):  #cycle detected\n",
    "                    return True\n",
    "        return False\n",
    "\n",
    "    def dfs(self, v, visited, rec_stack):\n",
    "        visited[v] = True  # Mark the current node as visited\n",
    "        rec_stack[v] = True  # Add the node to the recursion stack to check for cycle\n",
    "\n",
    "        for neighbor in self.adj[v]:\n",
    "            if not visited[neighbor]:  \n",
    "                if self.dfs(neighbor, visited, rec_stack):  # Recurse on the neighbor\n",
    "                    return True\n",
    "            elif rec_stack[neighbor]:  # neighbor in the recursion stack => cycle is detected\n",
    "                return True\n",
    "\n",
    "        rec_stack[v] = False  # Remove the node from the recursion stack\n",
    "        return False\n",
    "\n",
    "\n",
    "n = int(input(\"Enter the number of vertices: \"))\n",
    "gr = Cyc(n)\n",
    "\n",
    "while True:\n",
    "    u = int(input(\"Enter edge u in u->v: \"))\n",
    "    v = int(input(\"Enter edge v in u->v: \"))\n",
    "    gr.edgs(u, v)\n",
    "    \n",
    "    cond = input(\"Continue? y/n: \")\n",
    "    if cond == 'n':\n",
    "        break\n",
    "\n",
    "if gr.dfsinit():\n",
    "    print(\"Graph contains a cycle\")\n",
    "else:\n",
    "    print(\"Graph does not contain a cycle\")"
   ]
  }
 ],
 "metadata": {
  "kernelspec": {
   "display_name": "Python 3",
   "language": "python",
   "name": "python3"
  },
  "language_info": {
   "codemirror_mode": {
    "name": "ipython",
    "version": 3
   },
   "file_extension": ".py",
   "mimetype": "text/x-python",
   "name": "python",
   "nbconvert_exporter": "python",
   "pygments_lexer": "ipython3",
   "version": "3.11.9"
  }
 },
 "nbformat": 4,
 "nbformat_minor": 2
}
